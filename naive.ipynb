{
 "cells": [
  {
   "cell_type": "code",
   "execution_count": 1,
   "metadata": {},
   "outputs": [],
   "source": [
    "f=open(\"tweet.txt\",\"r\")\n",
    "content=f.read()\n",
    "d={}\n",
    "for line in f:\n",
    "    print(\"hellow\")\n",
    "    a=line.split(\"||\")\n",
    "    print(a[0])\n",
    "   \n"
   ]
  },
  {
   "cell_type": "code",
   "execution_count": 2,
   "metadata": {},
   "outputs": [],
   "source": [
    "import pandas as pd"
   ]
  },
  {
   "cell_type": "code",
   "execution_count": 3,
   "metadata": {},
   "outputs": [
    {
     "data": {
      "text/html": [
       "<div>\n",
       "<style scoped>\n",
       "    .dataframe tbody tr th:only-of-type {\n",
       "        vertical-align: middle;\n",
       "    }\n",
       "\n",
       "    .dataframe tbody tr th {\n",
       "        vertical-align: top;\n",
       "    }\n",
       "\n",
       "    .dataframe thead th {\n",
       "        text-align: right;\n",
       "    }\n",
       "</style>\n",
       "<table border=\"1\" class=\"dataframe\">\n",
       "  <thead>\n",
       "    <tr style=\"text-align: right;\">\n",
       "      <th></th>\n",
       "      <th>no</th>\n",
       "      <th>Tweet</th>\n",
       "      <th>Class</th>\n",
       "    </tr>\n",
       "  </thead>\n",
       "  <tbody>\n",
       "    <tr>\n",
       "      <td>0</td>\n",
       "      <td>1</td>\n",
       "      <td>,rt @sza: its like w less ppl outside we all ...</td>\n",
       "      <td>0</td>\n",
       "    </tr>\n",
       "    <tr>\n",
       "      <td>1</td>\n",
       "      <td>2</td>\n",
       "      <td>,rt @realrarety: hey everybody imma dirty bitch</td>\n",
       "      <td>0</td>\n",
       "    </tr>\n",
       "    <tr>\n",
       "      <td>2</td>\n",
       "      <td>3</td>\n",
       "      <td>,rt @aria66369199: do not mess with a girl of...</td>\n",
       "      <td>0</td>\n",
       "    </tr>\n",
       "    <tr>\n",
       "      <td>3</td>\n",
       "      <td>4</td>\n",
       "      <td>,@rydo90 same https://t.co/mimjh0kky2</td>\n",
       "      <td>1</td>\n",
       "    </tr>\n",
       "    <tr>\n",
       "      <td>4</td>\n",
       "      <td>5</td>\n",
       "      <td>,rt @faiza_baby: this is so so sad. how is an...</td>\n",
       "      <td>0</td>\n",
       "    </tr>\n",
       "  </tbody>\n",
       "</table>\n",
       "</div>"
      ],
      "text/plain": [
       "   no                                              Tweet  Class\n",
       "0   1   ,rt @sza: its like w less ppl outside we all ...      0\n",
       "1   2    ,rt @realrarety: hey everybody imma dirty bitch      0\n",
       "2   3   ,rt @aria66369199: do not mess with a girl of...      0\n",
       "3   4              ,@rydo90 same https://t.co/mimjh0kky2      1\n",
       "4   5   ,rt @faiza_baby: this is so so sad. how is an...      0"
      ]
     },
     "execution_count": 3,
     "metadata": {},
     "output_type": "execute_result"
    }
   ],
   "source": [
    "data=pd.read_csv(\"data2.csv\")\n",
    "data.head()"
   ]
  },
  {
   "cell_type": "code",
   "execution_count": 4,
   "metadata": {},
   "outputs": [
    {
     "data": {
      "text/plain": [
       "pandas.core.frame.DataFrame"
      ]
     },
     "execution_count": 4,
     "metadata": {},
     "output_type": "execute_result"
    }
   ],
   "source": [
    "type(data)"
   ]
  },
  {
   "cell_type": "code",
   "execution_count": 5,
   "metadata": {},
   "outputs": [
    {
     "data": {
      "text/plain": [
       "<bound method NDFrame.head of        no                                              Tweet  Class\n",
       "3       4              ,@rydo90 same https://t.co/mimjh0kky2      1\n",
       "9      10   ,rt @chelle2x: corona time  https://t.co/ixbm...      1\n",
       "10     11   ,rt @iamdesibanks: i pray that every individu...      1\n",
       "15     16   ,rt @rev_mente: did you do a story about makr...      1\n",
       "18     19                  ,@deluxeomen @theestallion say it      1\n",
       "..    ...                                                ...    ...\n",
       "989   990                             ,just tested niggative      0\n",
       "990   991   ,@urmomfavplayer yeah well trash won two supe...      0\n",
       "991   992   ,rt @plkajin: rt and ill guess if ur het or n...      0\n",
       "998   999                               ,i'm bout to go live      0\n",
       "999  1000   ,rt @gabimorinn: idk how to explain this but ...      0\n",
       "\n",
       "[890 rows x 3 columns]>"
      ]
     },
     "execution_count": 5,
     "metadata": {},
     "output_type": "execute_result"
    }
   ],
   "source": [
    "\n",
    "ntrainone=data.loc[data[\"Class\"]==1]\n",
    "ntrainzero=data.loc[data[\"Class\"]==0]\n",
    "li=[ntrainone[:500],ntrainzero[:500]]\n",
    "trainx=pd.concat(li)\n",
    "\n",
    "train_x=trainx[\"Tweet\"]\n",
    "trainx.head"
   ]
  },
  {
   "cell_type": "code",
   "execution_count": 6,
   "metadata": {},
   "outputs": [
    {
     "data": {
      "text/plain": [
       "<3x3 sparse matrix of type '<class 'numpy.int64'>'\n",
       "\twith 3 stored elements in Compressed Sparse Row format>"
      ]
     },
     "execution_count": 6,
     "metadata": {},
     "output_type": "execute_result"
    }
   ],
   "source": [
    "from sklearn.feature_extraction.text import CountVectorizer\n",
    "countvec=CountVectorizer()\n",
    "docvec=countvec.fit_transform(data)\n",
    "docvec"
   ]
  },
  {
   "cell_type": "code",
   "execution_count": 7,
   "metadata": {},
   "outputs": [],
   "source": [
    "from sklearn.model_selection import train_test_split"
   ]
  },
  {
   "cell_type": "code",
   "execution_count": 8,
   "metadata": {},
   "outputs": [
    {
     "name": "stdout",
     "output_type": "stream",
     "text": [
      "(712,) (712,)\n",
      "(178,) (178,)\n"
     ]
    },
    {
     "data": {
      "text/plain": [
       "614    0\n",
       "360    0\n",
       "286    1\n",
       "90     1\n",
       "597    0\n",
       "      ..\n",
       "386    0\n",
       "317    1\n",
       "373    1\n",
       "172    0\n",
       "848    0\n",
       "Name: Class, Length: 712, dtype: int64"
      ]
     },
     "execution_count": 8,
     "metadata": {},
     "output_type": "execute_result"
    }
   ],
   "source": [
    "X_train, X_test, y_train, y_test = train_test_split(trainx[\"Tweet\"], trainx[\"Class\"],test_size = 0.20)\n",
    "\n",
    "\n",
    "\n",
    "\n",
    "\n",
    "print(X_train.shape,y_train.shape)\n",
    "print(X_test.shape,y_test.shape)\n",
    "\n",
    "y_train"
   ]
  },
  {
   "cell_type": "code",
   "execution_count": 9,
   "metadata": {},
   "outputs": [
    {
     "data": {
      "text/plain": [
       "286    1\n",
       "90     1\n",
       "573    1\n",
       "308    1\n",
       "320    1\n",
       "      ..\n",
       "409    1\n",
       "551    1\n",
       "354    1\n",
       "317    1\n",
       "373    1\n",
       "Name: Class, Length: 387, dtype: int64"
      ]
     },
     "execution_count": 9,
     "metadata": {},
     "output_type": "execute_result"
    }
   ],
   "source": [
    "y_train.loc[data[\"Class\"]==1]\n",
    "#data.iloc[0:1000,2]"
   ]
  },
  {
   "cell_type": "code",
   "execution_count": 10,
   "metadata": {},
   "outputs": [],
   "source": [
    "from sklearn.feature_extraction.text import CountVectorizer\n",
    "cv = CountVectorizer(strip_accents=\"ascii\", token_pattern=u\"(?ui)\\\\b\\\\w*[a-z]+\\\\w*\\\\b\", lowercase=True, stop_words=\"english\")"
   ]
  },
  {
   "cell_type": "code",
   "execution_count": 11,
   "metadata": {},
   "outputs": [],
   "source": [
    "X_train_cv = cv.fit_transform(X_train)\n",
    "X_train_cv = cv.fit_transform(X_train)\n",
    "X_test_cv = cv.transform(X_test)"
   ]
  },
  {
   "cell_type": "code",
   "execution_count": 12,
   "metadata": {},
   "outputs": [],
   "source": [
    "word_freq_df = pd.DataFrame(X_train_cv.toarray(), columns=cv.get_feature_names())\n",
    "top_words_df = pd.DataFrame(word_freq_df.sum()).sort_values(0, ascending=False)"
   ]
  },
  {
   "cell_type": "code",
   "execution_count": 13,
   "metadata": {},
   "outputs": [],
   "source": [
    "from sklearn.naive_bayes import MultinomialNB\n",
    "naive_bayes = MultinomialNB()\n",
    "naive_bayes.fit(X_train_cv, y_train)\n",
    "predictions = naive_bayes.predict(X_test_cv)"
   ]
  },
  {
   "cell_type": "code",
   "execution_count": 14,
   "metadata": {},
   "outputs": [
    {
     "name": "stdout",
     "output_type": "stream",
     "text": [
      "Accuracy score:  0.6797752808988764\n",
      "Precision score:  0.7692307692307693\n",
      "Recall score:  0.7079646017699115\n",
      "Fl Score 0.7373271889400922\n"
     ]
    }
   ],
   "source": [
    "from sklearn.metrics import accuracy_score, precision_score, recall_score,f1_score\n",
    "print(\"Accuracy score: \", accuracy_score(y_test, predictions))\n",
    "print(\"Precision score: \", precision_score(y_test, predictions))\n",
    "print(\"Recall score: \", recall_score(y_test, predictions))\n",
    "print(\"Fl Score\", f1_score(y_test, predictions))"
   ]
  },
  {
   "cell_type": "code",
   "execution_count": 15,
   "metadata": {},
   "outputs": [],
   "source": [
    "mytest=pd.array([\"check out this cool link\",\"i'm fan of this club\"])\n",
    "label=pd.array([1,0])\n",
    "mytestdata=pd.Series(mytest)\n",
    "mylabel=pd.Series(label)"
   ]
  },
  {
   "cell_type": "code",
   "execution_count": 16,
   "metadata": {},
   "outputs": [
    {
     "data": {
      "text/plain": [
       "array([0, 0])"
      ]
     },
     "execution_count": 16,
     "metadata": {},
     "output_type": "execute_result"
    }
   ],
   "source": [
    "X_test_cv = cv.transform(mytestdata)\n",
    "predictions = naive_bayes.predict(X_test_cv)\n",
    "predictions"
   ]
  }
 ],
 "metadata": {
  "kernelspec": {
   "display_name": "Python 3",
   "language": "python",
   "name": "python3"
  },
  "language_info": {
   "codemirror_mode": {
    "name": "ipython",
    "version": 3
   },
   "file_extension": ".py",
   "mimetype": "text/x-python",
   "name": "python",
   "nbconvert_exporter": "python",
   "pygments_lexer": "ipython3",
   "version": "3.7.4"
  }
 },
 "nbformat": 4,
 "nbformat_minor": 2
}
