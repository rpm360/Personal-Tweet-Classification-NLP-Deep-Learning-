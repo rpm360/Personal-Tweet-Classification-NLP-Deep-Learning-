{
 "cells": [
  {
   "cell_type": "code",
   "execution_count": 1,
   "metadata": {},
   "outputs": [
    {
     "name": "stderr",
     "output_type": "stream",
     "text": [
      "Using TensorFlow backend.\n"
     ]
    }
   ],
   "source": [
    "import numpy as np\n",
    "import pandas as pd\n",
    "from keras.models import Sequential\n",
    "from keras.layers import Dense\n",
    "from keras.layers import LSTM\n",
    "from keras.layers.embeddings import Embedding\n",
    "from keras.preprocessing import sequence\n",
    "from keras.preprocessing.text import Tokenizer\n",
    "from sklearn.model_selection import train_test_split\n",
    "import re\n",
    "from keras.preprocessing.sequence import pad_sequences\n",
    "from keras.layers import Dense, Embedding, LSTM, SpatialDropout1D"
   ]
  },
  {
   "cell_type": "code",
   "execution_count": 2,
   "metadata": {
    "scrolled": true
   },
   "outputs": [
    {
     "name": "stdout",
     "output_type": "stream",
     "text": [
      "<class 'pandas.core.series.Series'>\n"
     ]
    },
    {
     "data": {
      "text/html": [
       "<div>\n",
       "<style scoped>\n",
       "    .dataframe tbody tr th:only-of-type {\n",
       "        vertical-align: middle;\n",
       "    }\n",
       "\n",
       "    .dataframe tbody tr th {\n",
       "        vertical-align: top;\n",
       "    }\n",
       "\n",
       "    .dataframe thead th {\n",
       "        text-align: right;\n",
       "    }\n",
       "</style>\n",
       "<table border=\"1\" class=\"dataframe\">\n",
       "  <thead>\n",
       "    <tr style=\"text-align: right;\">\n",
       "      <th></th>\n",
       "      <th>no</th>\n",
       "      <th>Tweet</th>\n",
       "      <th>Class</th>\n",
       "    </tr>\n",
       "  </thead>\n",
       "  <tbody>\n",
       "    <tr>\n",
       "      <td>0</td>\n",
       "      <td>1</td>\n",
       "      <td>,rt @sza: its like w less ppl outside we all ...</td>\n",
       "      <td>0</td>\n",
       "    </tr>\n",
       "    <tr>\n",
       "      <td>1</td>\n",
       "      <td>2</td>\n",
       "      <td>,rt @realrarety: hey everybody imma dirty bitch</td>\n",
       "      <td>0</td>\n",
       "    </tr>\n",
       "    <tr>\n",
       "      <td>2</td>\n",
       "      <td>3</td>\n",
       "      <td>,rt @aria66369199: do not mess with a girl of...</td>\n",
       "      <td>0</td>\n",
       "    </tr>\n",
       "    <tr>\n",
       "      <td>4</td>\n",
       "      <td>5</td>\n",
       "      <td>,rt @faiza_baby: this is so so sad. how is an...</td>\n",
       "      <td>0</td>\n",
       "    </tr>\n",
       "    <tr>\n",
       "      <td>5</td>\n",
       "      <td>6</td>\n",
       "      <td>,@kofoworola__a happy birthday tout damsel wi...</td>\n",
       "      <td>0</td>\n",
       "    </tr>\n",
       "    <tr>\n",
       "      <td>...</td>\n",
       "      <td>...</td>\n",
       "      <td>...</td>\n",
       "      <td>...</td>\n",
       "    </tr>\n",
       "    <tr>\n",
       "      <td>989</td>\n",
       "      <td>990</td>\n",
       "      <td>,just tested niggative</td>\n",
       "      <td>0</td>\n",
       "    </tr>\n",
       "    <tr>\n",
       "      <td>990</td>\n",
       "      <td>991</td>\n",
       "      <td>,@urmomfavplayer yeah well trash won two supe...</td>\n",
       "      <td>0</td>\n",
       "    </tr>\n",
       "    <tr>\n",
       "      <td>991</td>\n",
       "      <td>992</td>\n",
       "      <td>,rt @plkajin: rt and ill guess if ur het or n...</td>\n",
       "      <td>0</td>\n",
       "    </tr>\n",
       "    <tr>\n",
       "      <td>998</td>\n",
       "      <td>999</td>\n",
       "      <td>,i'm bout to go live</td>\n",
       "      <td>0</td>\n",
       "    </tr>\n",
       "    <tr>\n",
       "      <td>999</td>\n",
       "      <td>1000</td>\n",
       "      <td>,rt @gabimorinn: idk how to explain this but ...</td>\n",
       "      <td>0</td>\n",
       "    </tr>\n",
       "  </tbody>\n",
       "</table>\n",
       "<p>390 rows × 3 columns</p>\n",
       "</div>"
      ],
      "text/plain": [
       "       no                                              Tweet  Class\n",
       "0       1   ,rt @sza: its like w less ppl outside we all ...      0\n",
       "1       2    ,rt @realrarety: hey everybody imma dirty bitch      0\n",
       "2       3   ,rt @aria66369199: do not mess with a girl of...      0\n",
       "4       5   ,rt @faiza_baby: this is so so sad. how is an...      0\n",
       "5       6   ,@kofoworola__a happy birthday tout damsel wi...      0\n",
       "..    ...                                                ...    ...\n",
       "989   990                             ,just tested niggative      0\n",
       "990   991   ,@urmomfavplayer yeah well trash won two supe...      0\n",
       "991   992   ,rt @plkajin: rt and ill guess if ur het or n...      0\n",
       "998   999                               ,i'm bout to go live      0\n",
       "999  1000   ,rt @gabimorinn: idk how to explain this but ...      0\n",
       "\n",
       "[390 rows x 3 columns]"
      ]
     },
     "execution_count": 2,
     "metadata": {},
     "output_type": "execute_result"
    }
   ],
   "source": [
    "data=pd.read_csv(\"data2.csv\")\n",
    "print(type(data[\"Class\"]))\n",
    "data['Tweet']=data['Tweet'].apply(lambda x: x.lower())\n",
    "data.loc[data[\"Class\"]==0]\n",
    "\n",
    "\n"
   ]
  },
  {
   "cell_type": "code",
   "execution_count": 3,
   "metadata": {},
   "outputs": [
    {
     "data": {
      "text/plain": [
       "0       rt sza its like w less ppl outside we all hav...\n",
       "1           rt realrarety hey everybody imma dirty bitch\n",
       "2       rt aria66369199 do not mess with a girl of sh...\n",
       "3                         rydo90 same httpstcomimjh0kky2\n",
       "4       rt faiza_baby this is so so sad how is anyone...\n",
       "                             ...                        \n",
       "995     rt qikipedia you are more likely to be killed...\n",
       "996     this sounds fucking wild and horrific release...\n",
       "997                                         film and art\n",
       "998                                   im bout to go live\n",
       "999     rt gabimorinn idk how to explain this but thi...\n",
       "Name: Tweet, Length: 1000, dtype: object"
      ]
     },
     "execution_count": 3,
     "metadata": {},
     "output_type": "execute_result"
    }
   ],
   "source": [
    "data['Tweet']=data['Tweet'].apply(lambda x: re.sub('[^a-zA-z0-9\\s]','',x))\n",
    "for idx,row in data.iterrows():\n",
    "    row[1] = row[1].replace('rt',' ')\n",
    "data['Tweet']"
   ]
  },
  {
   "cell_type": "code",
   "execution_count": 4,
   "metadata": {},
   "outputs": [],
   "source": [
    "max_fatures = 2000\n",
    "tokenizer = Tokenizer(num_words=max_fatures, split=' ')\n",
    "#tokenizer.fit_on_texts(data[:1000].values)\n",
    "tokenizer.fit_on_texts(data['Tweet'].values)\n",
    "X = tokenizer.texts_to_sequences(data['Tweet'].values)\n",
    "X = pad_sequences(X)\n"
   ]
  },
  {
   "cell_type": "code",
   "execution_count": 5,
   "metadata": {},
   "outputs": [
    {
     "name": "stdout",
     "output_type": "stream",
     "text": [
      "WARNING:tensorflow:From /Users/rohitmarathe/anaconda3/lib/python3.7/site-packages/keras/backend/tensorflow_backend.py:74: The name tf.get_default_graph is deprecated. Please use tf.compat.v1.get_default_graph instead.\n",
      "\n",
      "WARNING:tensorflow:From /Users/rohitmarathe/anaconda3/lib/python3.7/site-packages/keras/backend/tensorflow_backend.py:517: The name tf.placeholder is deprecated. Please use tf.compat.v1.placeholder instead.\n",
      "\n",
      "WARNING:tensorflow:From /Users/rohitmarathe/anaconda3/lib/python3.7/site-packages/keras/backend/tensorflow_backend.py:4138: The name tf.random_uniform is deprecated. Please use tf.random.uniform instead.\n",
      "\n",
      "WARNING:tensorflow:From /Users/rohitmarathe/anaconda3/lib/python3.7/site-packages/keras/backend/tensorflow_backend.py:133: The name tf.placeholder_with_default is deprecated. Please use tf.compat.v1.placeholder_with_default instead.\n",
      "\n",
      "WARNING:tensorflow:From /Users/rohitmarathe/anaconda3/lib/python3.7/site-packages/keras/backend/tensorflow_backend.py:3445: calling dropout (from tensorflow.python.ops.nn_ops) with keep_prob is deprecated and will be removed in a future version.\n",
      "Instructions for updating:\n",
      "Please use `rate` instead of `keep_prob`. Rate should be set to `rate = 1 - keep_prob`.\n",
      "WARNING:tensorflow:From /Users/rohitmarathe/anaconda3/lib/python3.7/site-packages/keras/optimizers.py:790: The name tf.train.Optimizer is deprecated. Please use tf.compat.v1.train.Optimizer instead.\n",
      "\n",
      "WARNING:tensorflow:From /Users/rohitmarathe/anaconda3/lib/python3.7/site-packages/keras/backend/tensorflow_backend.py:3295: The name tf.log is deprecated. Please use tf.math.log instead.\n",
      "\n",
      "_________________________________________________________________\n",
      "Layer (type)                 Output Shape              Param #   \n",
      "=================================================================\n",
      "embedding_1 (Embedding)      (None, 51, 128)           256000    \n",
      "_________________________________________________________________\n",
      "spatial_dropout1d_1 (Spatial (None, 51, 128)           0         \n",
      "_________________________________________________________________\n",
      "lstm_1 (LSTM)                (None, 196)               254800    \n",
      "_________________________________________________________________\n",
      "dense_1 (Dense)              (None, 2)                 394       \n",
      "=================================================================\n",
      "Total params: 511,194\n",
      "Trainable params: 511,194\n",
      "Non-trainable params: 0\n",
      "_________________________________________________________________\n",
      "None\n"
     ]
    }
   ],
   "source": [
    "embed_dim = 128\n",
    "lstm_out = 196\n",
    "model = Sequential()\n",
    "model.add(Embedding(max_fatures, embed_dim,input_length = X.shape[1]))\n",
    "model.add(SpatialDropout1D(0.4))\n",
    "model.add(LSTM(lstm_out, dropout=0.2, recurrent_dropout=0.2))\n",
    "model.add(Dense(2,activation='softmax'))\n",
    "model.compile(loss = 'categorical_crossentropy', optimizer='adam',metrics = ['accuracy'])\n",
    "print(model.summary())"
   ]
  },
  {
   "cell_type": "code",
   "execution_count": 6,
   "metadata": {},
   "outputs": [
    {
     "name": "stdout",
     "output_type": "stream",
     "text": [
      "[[1 0]\n",
      " [1 0]\n",
      " [1 0]\n",
      " ...\n",
      " [0 1]\n",
      " [1 0]\n",
      " [1 0]]\n",
      "(800, 51) (800, 2)\n",
      "(200, 51) (200, 2)\n"
     ]
    }
   ],
   "source": [
    "Y = pd.get_dummies(data['Class']).values\n",
    "print(Y)\n",
    "X_train, X_test, Y_train, Y_test = train_test_split(X,Y, test_size = 0.20)\n",
    "print(X_train.shape,Y_train.shape)\n",
    "print(X_test.shape,Y_test.shape)\n"
   ]
  },
  {
   "cell_type": "code",
   "execution_count": 7,
   "metadata": {},
   "outputs": [
    {
     "name": "stdout",
     "output_type": "stream",
     "text": [
      "WARNING:tensorflow:From /Users/rohitmarathe/anaconda3/lib/python3.7/site-packages/tensorflow_core/python/ops/math_grad.py:1424: where (from tensorflow.python.ops.array_ops) is deprecated and will be removed in a future version.\n",
      "Instructions for updating:\n",
      "Use tf.where in 2.0, which has the same broadcast rule as np.where\n",
      "WARNING:tensorflow:From /Users/rohitmarathe/anaconda3/lib/python3.7/site-packages/keras/backend/tensorflow_backend.py:986: The name tf.assign_add is deprecated. Please use tf.compat.v1.assign_add instead.\n",
      "\n",
      "WARNING:tensorflow:From /Users/rohitmarathe/anaconda3/lib/python3.7/site-packages/keras/backend/tensorflow_backend.py:973: The name tf.assign is deprecated. Please use tf.compat.v1.assign instead.\n",
      "\n",
      "WARNING:tensorflow:From /Users/rohitmarathe/anaconda3/lib/python3.7/site-packages/keras/backend/tensorflow_backend.py:2741: The name tf.Session is deprecated. Please use tf.compat.v1.Session instead.\n",
      "\n",
      "Epoch 1/7\n",
      "WARNING:tensorflow:From /Users/rohitmarathe/anaconda3/lib/python3.7/site-packages/keras/backend/tensorflow_backend.py:174: The name tf.get_default_session is deprecated. Please use tf.compat.v1.get_default_session instead.\n",
      "\n",
      "WARNING:tensorflow:From /Users/rohitmarathe/anaconda3/lib/python3.7/site-packages/keras/backend/tensorflow_backend.py:181: The name tf.ConfigProto is deprecated. Please use tf.compat.v1.ConfigProto instead.\n",
      "\n",
      "WARNING:tensorflow:From /Users/rohitmarathe/anaconda3/lib/python3.7/site-packages/keras/backend/tensorflow_backend.py:190: The name tf.global_variables is deprecated. Please use tf.compat.v1.global_variables instead.\n",
      "\n",
      "WARNING:tensorflow:From /Users/rohitmarathe/anaconda3/lib/python3.7/site-packages/keras/backend/tensorflow_backend.py:199: The name tf.is_variable_initialized is deprecated. Please use tf.compat.v1.is_variable_initialized instead.\n",
      "\n",
      "WARNING:tensorflow:From /Users/rohitmarathe/anaconda3/lib/python3.7/site-packages/keras/backend/tensorflow_backend.py:206: The name tf.variables_initializer is deprecated. Please use tf.compat.v1.variables_initializer instead.\n",
      "\n",
      " - 7s - loss: 0.6591 - acc: 0.6013\n",
      "Epoch 2/7\n",
      " - 4s - loss: 0.6057 - acc: 0.6900\n",
      "Epoch 3/7\n",
      " - 4s - loss: 0.4307 - acc: 0.8225\n",
      "Epoch 4/7\n",
      " - 4s - loss: 0.3053 - acc: 0.8800\n",
      "Epoch 5/7\n",
      " - 4s - loss: 0.2115 - acc: 0.9088\n",
      "Epoch 6/7\n",
      " - 4s - loss: 0.1603 - acc: 0.9413\n",
      "Epoch 7/7\n",
      " - 4s - loss: 0.1173 - acc: 0.9600\n"
     ]
    },
    {
     "data": {
      "text/plain": [
       "<keras.callbacks.History at 0x1a48036fd0>"
      ]
     },
     "execution_count": 7,
     "metadata": {},
     "output_type": "execute_result"
    }
   ],
   "source": [
    "batch_size = 32\n",
    "model.fit(X_train, Y_train, epochs = 7, batch_size=batch_size, verbose = 2)"
   ]
  },
  {
   "cell_type": "code",
   "execution_count": 8,
   "metadata": {},
   "outputs": [
    {
     "name": "stdout",
     "output_type": "stream",
     "text": [
      "score: 0.88\n",
      "acc: 0.66\n"
     ]
    }
   ],
   "source": [
    "validation_size = 1500\n",
    "score,acc = model.evaluate(X_test, Y_test, verbose = 2, batch_size = batch_size)\n",
    "print(\"score: %.2f\" % (score))\n",
    "print(\"acc: %.2f\" % (acc))"
   ]
  },
  {
   "cell_type": "code",
   "execution_count": 9,
   "metadata": {
    "scrolled": true
   },
   "outputs": [
    {
     "data": {
      "text/plain": [
       "array([[1.46623895e-01, 8.53376150e-01],\n",
       "       [9.62490499e-01, 3.75095010e-02],\n",
       "       [2.14575077e-04, 9.99785483e-01],\n",
       "       [9.34767485e-01, 6.52324855e-02],\n",
       "       [9.98738587e-01, 1.26147119e-03],\n",
       "       [9.54052359e-02, 9.04594719e-01],\n",
       "       [9.81832040e-04, 9.99018192e-01],\n",
       "       [4.39462453e-01, 5.60537517e-01],\n",
       "       [1.87207863e-01, 8.12792182e-01],\n",
       "       [6.84274256e-01, 3.15725654e-01],\n",
       "       [8.27361584e-01, 1.72638431e-01],\n",
       "       [8.06141570e-02, 9.19385850e-01],\n",
       "       [2.92504966e-01, 7.07495034e-01],\n",
       "       [1.30232304e-01, 8.69767785e-01],\n",
       "       [9.66585875e-01, 3.34141739e-02],\n",
       "       [8.00897419e-01, 1.99102551e-01],\n",
       "       [5.94410777e-01, 4.05589283e-01],\n",
       "       [7.30282962e-01, 2.69716978e-01],\n",
       "       [1.90623879e-01, 8.09376180e-01],\n",
       "       [1.87290996e-01, 8.12709033e-01],\n",
       "       [5.82076848e-01, 4.17923123e-01],\n",
       "       [9.97655034e-01, 2.34498992e-03],\n",
       "       [3.21703702e-01, 6.78296268e-01],\n",
       "       [7.76068449e-01, 2.23931551e-01],\n",
       "       [6.59550369e-01, 3.40449601e-01],\n",
       "       [1.59663454e-01, 8.40336561e-01],\n",
       "       [2.00095796e-03, 9.97999012e-01],\n",
       "       [3.07452995e-02, 9.69254732e-01],\n",
       "       [3.20571840e-01, 6.79428101e-01],\n",
       "       [2.31245294e-01, 7.68754721e-01],\n",
       "       [1.77887306e-01, 8.22112679e-01],\n",
       "       [8.76659930e-01, 1.23340040e-01],\n",
       "       [9.99499559e-01, 5.00460388e-04],\n",
       "       [2.85015762e-01, 7.14984179e-01],\n",
       "       [9.94658649e-01, 5.34133753e-03],\n",
       "       [2.76241768e-02, 9.72375751e-01],\n",
       "       [9.91583824e-01, 8.41612834e-03],\n",
       "       [3.24319452e-02, 9.67568040e-01],\n",
       "       [9.98427153e-01, 1.57289184e-03],\n",
       "       [2.47625768e-01, 7.52374291e-01],\n",
       "       [9.92429674e-01, 7.57034589e-03],\n",
       "       [5.27716219e-01, 4.72283781e-01],\n",
       "       [9.97525275e-01, 2.47475505e-03],\n",
       "       [4.68597621e-01, 5.31402409e-01],\n",
       "       [9.15570498e-01, 8.44294578e-02],\n",
       "       [1.81951508e-01, 8.18048537e-01],\n",
       "       [8.63151491e-01, 1.36848599e-01],\n",
       "       [1.31150603e-01, 8.68849456e-01],\n",
       "       [3.01329140e-02, 9.69867051e-01],\n",
       "       [1.25481024e-01, 8.74518991e-01],\n",
       "       [2.30358578e-02, 9.76964176e-01],\n",
       "       [7.92154551e-01, 2.07845509e-01],\n",
       "       [4.51166369e-03, 9.95488346e-01],\n",
       "       [9.99500036e-01, 4.99989721e-04],\n",
       "       [8.48091185e-01, 1.51908785e-01],\n",
       "       [9.95554268e-01, 4.44569392e-03],\n",
       "       [9.99612987e-01, 3.87054693e-04],\n",
       "       [9.99921799e-01, 7.82024727e-05],\n",
       "       [9.43829894e-01, 5.61700724e-02],\n",
       "       [9.52706814e-01, 4.72931974e-02],\n",
       "       [1.99166521e-01, 8.00833523e-01],\n",
       "       [9.96376455e-01, 3.62354936e-03],\n",
       "       [1.97426766e-01, 8.02573323e-01],\n",
       "       [9.80233490e-01, 1.97664946e-02],\n",
       "       [6.06566621e-03, 9.93934333e-01],\n",
       "       [3.44957528e-03, 9.96550441e-01],\n",
       "       [3.16288143e-01, 6.83711886e-01],\n",
       "       [6.74330741e-02, 9.32566881e-01],\n",
       "       [9.08958733e-01, 9.10412818e-02],\n",
       "       [9.12633201e-04, 9.99087334e-01],\n",
       "       [2.87541181e-01, 7.12458849e-01],\n",
       "       [9.99832511e-01, 1.67422681e-04],\n",
       "       [4.70427781e-01, 5.29572248e-01],\n",
       "       [1.26176029e-01, 8.73824000e-01],\n",
       "       [9.44245279e-01, 5.57547063e-02],\n",
       "       [3.41892876e-02, 9.65810716e-01],\n",
       "       [9.59723070e-02, 9.04027760e-01],\n",
       "       [1.20881721e-01, 8.79118264e-01],\n",
       "       [5.44440746e-02, 9.45555925e-01],\n",
       "       [5.68613291e-01, 4.31386739e-01],\n",
       "       [2.50796396e-02, 9.74920392e-01],\n",
       "       [1.21773198e-01, 8.78226817e-01],\n",
       "       [5.53163230e-01, 4.46836799e-01],\n",
       "       [1.84046209e-03, 9.98159587e-01],\n",
       "       [9.78457093e-01, 2.15429496e-02],\n",
       "       [4.79066111e-02, 9.52093363e-01],\n",
       "       [1.50809854e-01, 8.49190235e-01],\n",
       "       [2.78078049e-01, 7.21921921e-01],\n",
       "       [4.10618745e-02, 9.58938062e-01],\n",
       "       [9.43086684e-01, 5.69133162e-02],\n",
       "       [2.76959568e-01, 7.23040342e-01],\n",
       "       [3.03594232e-01, 6.96405709e-01],\n",
       "       [4.35470697e-03, 9.95645285e-01],\n",
       "       [2.48547152e-01, 7.51452923e-01],\n",
       "       [2.96398848e-02, 9.70360100e-01],\n",
       "       [3.02548930e-02, 9.69745040e-01],\n",
       "       [9.99818981e-01, 1.81066440e-04],\n",
       "       [5.06645888e-02, 9.49335456e-01],\n",
       "       [1.23223930e-03, 9.98767734e-01],\n",
       "       [6.48435652e-01, 3.51564318e-01],\n",
       "       [2.56067246e-01, 7.43932724e-01],\n",
       "       [7.64114439e-01, 2.35885590e-01],\n",
       "       [9.15404260e-02, 9.08459544e-01],\n",
       "       [4.28330570e-01, 5.71669340e-01],\n",
       "       [8.56604517e-01, 1.43395469e-01],\n",
       "       [8.50741148e-01, 1.49258837e-01],\n",
       "       [6.13108724e-02, 9.38689053e-01],\n",
       "       [8.62070143e-01, 1.37929872e-01],\n",
       "       [9.94142234e-01, 5.85777825e-03],\n",
       "       [3.73659544e-02, 9.62634087e-01],\n",
       "       [2.05089282e-02, 9.79491055e-01],\n",
       "       [9.97776687e-01, 2.22335942e-03],\n",
       "       [3.28365445e-01, 6.71634555e-01],\n",
       "       [1.31150603e-01, 8.68849456e-01],\n",
       "       [9.86354530e-01, 1.36454562e-02],\n",
       "       [9.99089837e-01, 9.10194824e-04],\n",
       "       [3.19546312e-01, 6.80453658e-01],\n",
       "       [9.93452072e-01, 6.54791854e-03],\n",
       "       [1.53884860e-02, 9.84611452e-01],\n",
       "       [9.51126590e-03, 9.90488768e-01],\n",
       "       [1.48903477e-04, 9.99851108e-01],\n",
       "       [4.45191056e-01, 5.54808915e-01],\n",
       "       [6.14075840e-01, 3.85924190e-01],\n",
       "       [1.14712007e-01, 8.85288000e-01],\n",
       "       [3.80957350e-02, 9.61904228e-01],\n",
       "       [5.01674712e-01, 4.98325288e-01],\n",
       "       [1.47913920e-03, 9.98520911e-01],\n",
       "       [3.80780883e-02, 9.61921871e-01],\n",
       "       [3.35885771e-02, 9.66411471e-01],\n",
       "       [1.11674055e-01, 8.88325930e-01],\n",
       "       [8.64686251e-01, 1.35313809e-01],\n",
       "       [9.87851858e-01, 1.21480841e-02],\n",
       "       [8.27048659e-01, 1.72951356e-01],\n",
       "       [8.01678598e-02, 9.19832170e-01],\n",
       "       [5.15477836e-01, 4.84522194e-01],\n",
       "       [4.00716007e-01, 5.99283934e-01],\n",
       "       [8.84176672e-01, 1.15823410e-01],\n",
       "       [9.99226451e-01, 7.73558451e-04],\n",
       "       [4.95987207e-01, 5.04012764e-01],\n",
       "       [8.25858355e-01, 1.74141645e-01],\n",
       "       [5.83667517e-01, 4.16332453e-01],\n",
       "       [5.04146874e-01, 4.95853156e-01],\n",
       "       [1.31289080e-01, 8.68710935e-01],\n",
       "       [2.46433988e-01, 7.53566086e-01],\n",
       "       [9.82431591e-01, 1.75683927e-02],\n",
       "       [5.57439886e-02, 9.44256008e-01],\n",
       "       [9.98173833e-01, 1.82612101e-03],\n",
       "       [1.72206610e-01, 8.27793419e-01],\n",
       "       [9.99676704e-01, 3.23363725e-04],\n",
       "       [6.05417825e-02, 9.39458191e-01],\n",
       "       [4.35197055e-02, 9.56480324e-01],\n",
       "       [6.13613911e-02, 9.38638568e-01],\n",
       "       [9.95864391e-01, 4.13562497e-03],\n",
       "       [7.64114439e-01, 2.35885590e-01],\n",
       "       [5.24744652e-02, 9.47525501e-01],\n",
       "       [2.17111800e-02, 9.78288770e-01],\n",
       "       [1.41685531e-01, 8.58314514e-01],\n",
       "       [5.71685910e-01, 4.28314149e-01],\n",
       "       [4.58479077e-01, 5.41520953e-01],\n",
       "       [8.79054368e-02, 9.12094653e-01],\n",
       "       [9.36070204e-01, 6.39298111e-02],\n",
       "       [9.28349555e-01, 7.16505200e-02],\n",
       "       [2.45306090e-01, 7.54693985e-01],\n",
       "       [9.99945641e-01, 5.43837741e-05],\n",
       "       [4.92190152e-01, 5.07809877e-01],\n",
       "       [9.99926448e-01, 7.35323338e-05],\n",
       "       [9.90435898e-01, 9.56405792e-03],\n",
       "       [9.95535851e-01, 4.46411129e-03],\n",
       "       [9.60363746e-01, 3.96363363e-02],\n",
       "       [9.79156494e-02, 9.02084410e-01],\n",
       "       [8.48471224e-02, 9.15152907e-01],\n",
       "       [6.28014728e-02, 9.37198520e-01],\n",
       "       [9.97148573e-01, 2.85147526e-03],\n",
       "       [9.94432941e-02, 9.00556684e-01],\n",
       "       [4.13507968e-01, 5.86492002e-01],\n",
       "       [9.98206854e-01, 1.79313705e-03],\n",
       "       [2.71961361e-01, 7.28038609e-01],\n",
       "       [6.66955769e-01, 3.33044231e-01],\n",
       "       [4.21987325e-01, 5.78012645e-01],\n",
       "       [9.88105297e-01, 1.18947057e-02],\n",
       "       [7.84394681e-01, 2.15605319e-01],\n",
       "       [9.38664496e-01, 6.13354668e-02],\n",
       "       [9.94493902e-01, 5.50611271e-03],\n",
       "       [2.03332275e-01, 7.96667755e-01],\n",
       "       [1.77042850e-03, 9.98229563e-01],\n",
       "       [8.41140151e-01, 1.58859819e-01],\n",
       "       [9.99796569e-01, 2.03435106e-04],\n",
       "       [3.70530561e-02, 9.62946892e-01],\n",
       "       [7.95636773e-02, 9.20436323e-01],\n",
       "       [2.53182184e-02, 9.74681735e-01],\n",
       "       [1.32503331e-01, 8.67496729e-01],\n",
       "       [3.16820778e-02, 9.68317926e-01],\n",
       "       [9.74285722e-01, 2.57143024e-02],\n",
       "       [9.12754893e-01, 8.72451141e-02],\n",
       "       [9.63035882e-01, 3.69640701e-02],\n",
       "       [6.22419119e-01, 3.77580822e-01],\n",
       "       [2.64142640e-03, 9.97358501e-01],\n",
       "       [9.63994443e-01, 3.60055640e-02],\n",
       "       [7.02062156e-03, 9.92979348e-01],\n",
       "       [1.27854720e-01, 8.72145295e-01]], dtype=float32)"
      ]
     },
     "execution_count": 9,
     "metadata": {},
     "output_type": "execute_result"
    }
   ],
   "source": [
    "predictions=model.predict(X_test,verbose=0)\n",
    "predictions"
   ]
  },
  {
   "cell_type": "code",
   "execution_count": 10,
   "metadata": {},
   "outputs": [
    {
     "data": {
      "text/plain": [
       "array([1, 0, 1, 0, 0, 1, 1, 1, 1, 0, 0, 1, 1, 1, 0, 0, 0, 0, 1, 1, 0, 0,\n",
       "       1, 0, 0, 1, 1, 1, 1, 1, 1, 0, 0, 1, 0, 1, 0, 1, 0, 1, 0, 0, 0, 1,\n",
       "       0, 1, 0, 1, 1, 1, 1, 0, 1, 0, 0, 0, 0, 0, 0, 0, 1, 0, 1, 0, 1, 1,\n",
       "       1, 1, 0, 1, 1, 0, 1, 1, 0, 1, 1, 1, 1, 0, 1, 1, 0, 1, 0, 1, 1, 1,\n",
       "       1, 0, 1, 1, 1, 1, 1, 1, 0, 1, 1, 0, 1, 0, 1, 1, 0, 0, 1, 0, 0, 1,\n",
       "       1, 0, 1, 1, 0, 0, 1, 0, 1, 1, 1, 1, 0, 1, 1, 0, 1, 1, 1, 1, 0, 0,\n",
       "       0, 1, 0, 1, 0, 0, 1, 0, 0, 0, 1, 1, 0, 1, 0, 1, 0, 1, 1, 1, 0, 0,\n",
       "       1, 1, 1, 0, 1, 1, 0, 0, 1, 0, 1, 0, 0, 0, 0, 1, 1, 1, 0, 1, 1, 0,\n",
       "       1, 0, 1, 0, 0, 0, 0, 1, 1, 0, 0, 1, 1, 1, 1, 1, 0, 0, 0, 0, 1, 0,\n",
       "       1, 1])"
      ]
     },
     "execution_count": 10,
     "metadata": {},
     "output_type": "execute_result"
    }
   ],
   "source": [
    "p=np.argmax(predictions,axis=1)\n",
    "p"
   ]
  },
  {
   "cell_type": "code",
   "execution_count": 11,
   "metadata": {},
   "outputs": [],
   "source": [
    "Y_test=Y_test.argmax(axis=1)\n",
    "# Y_test"
   ]
  },
  {
   "cell_type": "code",
   "execution_count": 12,
   "metadata": {},
   "outputs": [
    {
     "name": "stdout",
     "output_type": "stream",
     "text": [
      "Accuracy score:  0.655\n",
      "Precision score:  0.7297297297297297\n",
      "Recall score:  0.675\n",
      "Fl Score 0.7012987012987014\n"
     ]
    }
   ],
   "source": [
    "from sklearn.metrics import accuracy_score, precision_score, recall_score,f1_score\n",
    "print(\"Accuracy score: \", accuracy_score(Y_test, p))\n",
    "print(\"Precision score: \", precision_score(Y_test, p))\n",
    "print(\"Recall score: \", recall_score(Y_test, p))\n",
    "print(\"Fl Score\", f1_score(Y_test, p))"
   ]
  }
 ],
 "metadata": {
  "kernelspec": {
   "display_name": "Python 3",
   "language": "python",
   "name": "python3"
  },
  "language_info": {
   "codemirror_mode": {
    "name": "ipython",
    "version": 3
   },
   "file_extension": ".py",
   "mimetype": "text/x-python",
   "name": "python",
   "nbconvert_exporter": "python",
   "pygments_lexer": "ipython3",
   "version": "3.7.4"
  }
 },
 "nbformat": 4,
 "nbformat_minor": 2
}
